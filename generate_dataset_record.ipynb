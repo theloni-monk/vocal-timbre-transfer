{
 "cells": [
  {
   "cell_type": "code",
   "execution_count": null,
   "metadata": {},
   "outputs": [],
   "source": [
    "AUDIO_DIR = 'data/audio'\n",
    "AUDIO_FILEPATTERN = AUDIO_DIR + '/*.wav'\n",
    "SAVE_DIR = 'models/ddsp-solo-instrument'\n",
    "\n",
    "import glob\n",
    "import os\n",
    "\n",
    "if not glob.glob(AUDIO_FILEPATTERN):\n",
    "    raise ValueError('No audio files found.')\n",
    "                    \n",
    "TRAIN_TFRECORD = 'data/train.tfrecord'\n",
    "TRAIN_TFRECORD_FILEPATTERN = TRAIN_TFRECORD + '*'\n"
   ]
  },
  {
   "cell_type": "code",
   "execution_count": null,
   "metadata": {},
   "outputs": [],
   "source": [
    "!ddsp_prepare_tfrecord \\\n",
    "    --input_audio_filepatterns=$AUDIO_FILEPATTERN \\\n",
    "    --output_tfrecord_path=$TRAIN_TFRECORD \\\n",
    "    --num_shards=10 \\\n",
    "    --alsologtostderr"
   ]
  },
  {
   "cell_type": "code",
   "execution_count": null,
   "metadata": {},
   "outputs": [],
   "source": [
    "from misc_util import util\n",
    "import ddsp.training\n",
    "\n",
    "data_provider = ddsp.training.data.TFRecordProvider(TRAIN_TFRECORD_FILEPATTERN)\n",
    "dataset = data_provider.get_dataset(shuffle=False)\n",
    "PICKLE_FILE_PATH = os.path.join(SAVE_DIR, 'dataset_statistics.pkl')\n",
    "#FIXME: dataset statistics failing with note mask\n",
    "_ = util.save_dataset_statistics(data_provider, PICKLE_FILE_PATH, batch_size=1)"
   ]
  }
 ],
 "metadata": {
  "kernelspec": {
   "display_name": "Python 3.8.15 ('tflow')",
   "language": "python",
   "name": "python3"
  },
  "language_info": {
   "name": "python",
   "version": "3.8.15"
  },
  "orig_nbformat": 4,
  "vscode": {
   "interpreter": {
    "hash": "20ca5f35a336371d303f88ef6c2da9e871fe02173bfe3ec930aab2dc9f116872"
   }
  }
 },
 "nbformat": 4,
 "nbformat_minor": 2
}
