{
 "cells": [
  {
   "cell_type": "code",
   "execution_count": 1,
   "metadata": {},
   "outputs": [
    {
     "name": "stdout",
     "output_type": "stream",
     "text": [
      "c:\\Users\\TheoA\\Documents\\MIT\\SOPHSLUMP\\21M.080\\Final_Project\\vocal-timbre-transfer\n"
     ]
    }
   ],
   "source": [
    "import glob\n",
    "import os\n",
    "print(os.getcwd())"
   ]
  },
  {
   "cell_type": "code",
   "execution_count": 5,
   "metadata": {},
   "outputs": [
    {
     "name": "stdout",
     "output_type": "stream",
     "text": [
      "Renaming m4a_audio\\21M.302 Musician Lab Assignment 2.m4a to 21M.302_Musician_Lab_Assignment_2.m4a\n",
      "Renaming m4a_audio\\a change is gonna come.m4a to a_change_is_gonna_come.m4a\n",
      "Renaming m4a_audio\\blessed.m4a to blessed.m4a\n",
      "Renaming m4a_audio\\greatest love of all.m4a to greatest_love_of_all.m4a\n",
      "Renaming m4a_audio\\lead the way run.m4a to lead_the_way_run.m4a\n",
      "Renaming m4a_audio\\lead the way.m4a to lead_the_way.m4a\n",
      "Renaming m4a_audio\\morgan_david_bbb 2.m4a to morgan_david_bbb_2.m4a\n",
      "Renaming m4a_audio\\morgan_david_solo 2.m4a to morgan_david_solo_2.m4a\n",
      "Renaming m4a_audio\\new (pitchy) low - C2 (recorded in morning).m4a to new_(pitchy)_low_-_C2_(recorded_in_morning).m4a\n",
      "Renaming m4a_audio\\Nueva grabación 12.m4a to Nueva_grabación_12.m4a\n",
      "Renaming m4a_audio\\Nueva grabación 13.m4a to Nueva_grabación_13.m4a\n",
      "Renaming m4a_audio\\Nueva grabación 15.m4a to Nueva_grabación_15.m4a\n",
      "Renaming m4a_audio\\Nueva grabación 16.m4a to Nueva_grabación_16.m4a\n",
      "Renaming m4a_audio\\Nueva grabación 17.m4a to Nueva_grabación_17.m4a\n",
      "Renaming m4a_audio\\Nueva grabación 18.m4a to Nueva_grabación_18.m4a\n",
      "Renaming m4a_audio\\Nueva grabación 19.m4a to Nueva_grabación_19.m4a\n",
      "Renaming m4a_audio\\Nueva grabación 21.m4a to Nueva_grabación_21.m4a\n",
      "Renaming m4a_audio\\Nueva grabación 22.m4a to Nueva_grabación_22.m4a\n",
      "Renaming m4a_audio\\Nueva grabación 40.m4a to Nueva_grabación_40.m4a\n",
      "Renaming m4a_audio\\Nueva grabación 43.m4a to Nueva_grabación_43.m4a\n",
      "Renaming m4a_audio\\Nueva grabación 58.m4a to Nueva_grabación_58.m4a\n",
      "Renaming m4a_audio\\Nueva grabación 59.m4a to Nueva_grabación_59.m4a\n",
      "Renaming m4a_audio\\Nueva grabación 60.m4a to Nueva_grabación_60.m4a\n",
      "Renaming m4a_audio\\Nueva grabación 61.m4a to Nueva_grabación_61.m4a\n",
      "Renaming m4a_audio\\Nueva grabación 68.m4a to Nueva_grabación_68.m4a\n",
      "Renaming m4a_audio\\Nueva grabación 71.m4a to Nueva_grabación_71.m4a\n",
      "Renaming m4a_audio\\Nueva grabación 76.m4a to Nueva_grabación_76.m4a\n",
      "Renaming m4a_audio\\Nueva grabación 79.m4a to Nueva_grabación_79.m4a\n",
      "Renaming m4a_audio\\Nueva grabación 80.m4a to Nueva_grabación_80.m4a\n",
      "Renaming m4a_audio\\Nueva grabación 81.m4a to Nueva_grabación_81.m4a\n",
      "Renaming m4a_audio\\Nueva grabación 83.m4a to Nueva_grabación_83.m4a\n",
      "Renaming m4a_audio\\Nueva grabación 88.m4a to Nueva_grabación_88.m4a\n",
      "Renaming m4a_audio\\Nueva grabación 89.m4a to Nueva_grabación_89.m4a\n",
      "Renaming m4a_audio\\outside - final chorus snippet.m4a to outside_-_final_chorus_snippet.m4a\n",
      "Renaming m4a_audio\\over - thirdstory (bridge).m4a to over_-_thirdstory_(bridge).m4a\n",
      "Renaming m4a_audio\\the first time ever i saw your face.m4a to the_first_time_ever_i_saw_your_face.m4a\n"
     ]
    }
   ],
   "source": [
    "#removing spaces from filenames\n",
    "m4a_audios = glob.glob(\"m4a_audio/*.m4a\")\n",
    "for fname in m4a_audios:\n",
    "  origin_name = \"c:\\\\Users\\\\TheoA\\\\Documents\\\\MIT\\\\SOPHSLUMP\\\\21M.080\\\\Final_Project\\\\vocal-timbre-transfer\\\\m4a_audio\\\\\"+fname\n",
    "  target_name =  os.path.basename(fname).replace(' ', '_')\n",
    "  print('Renaming {} to {}'.format(fname, target_name))\n",
    "  !rename \"$fname\" $target_name"
   ]
  },
  {
   "cell_type": "code",
   "execution_count": 6,
   "metadata": {},
   "outputs": [],
   "source": [
    "from pydub import AudioSegment\n",
    "m4a_audios = glob.glob(\"m4a_audio/*.m4a\")\n",
    "for fname in m4a_audios:\n",
    "    track = AudioSegment.from_file(fname,  format= 'm4a')\n",
    "    file_handle = track.export(fname[:-3]+\"wav\", format='wav')"
   ]
  },
  {
   "cell_type": "code",
   "execution_count": null,
   "metadata": {},
   "outputs": [],
   "source": []
  }
 ],
 "metadata": {
  "kernelspec": {
   "display_name": "Python 3.8.15 ('tflow')",
   "language": "python",
   "name": "python3"
  },
  "language_info": {
   "codemirror_mode": {
    "name": "ipython",
    "version": 3
   },
   "file_extension": ".py",
   "mimetype": "text/x-python",
   "name": "python",
   "nbconvert_exporter": "python",
   "pygments_lexer": "ipython3",
   "version": "3.8.15"
  },
  "orig_nbformat": 4,
  "vscode": {
   "interpreter": {
    "hash": "20ca5f35a336371d303f88ef6c2da9e871fe02173bfe3ec930aab2dc9f116872"
   }
  }
 },
 "nbformat": 4,
 "nbformat_minor": 2
}
